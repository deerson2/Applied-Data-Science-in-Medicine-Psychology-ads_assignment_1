{
  "nbformat": 4,
  "nbformat_minor": 0,
  "metadata": {
    "colab": {
      "provenance": [],
      "authorship_tag": "ABX9TyMnINmf9rc7F7Azn25W1zhK",
      "include_colab_link": true
    },
    "kernelspec": {
      "name": "python3",
      "display_name": "Python 3"
    },
    "language_info": {
      "name": "python"
    }
  },
  "cells": [
    {
      "cell_type": "markdown",
      "metadata": {
        "id": "view-in-github",
        "colab_type": "text"
      },
      "source": [
        "<a href=\"https://colab.research.google.com/github/deerson2/Applied-Data-Science-in-Medicine-Psychology-ads_assignment_1/blob/main/ads_assignment_1.ipynb\" target=\"_parent\"><img src=\"https://colab.research.google.com/assets/colab-badge.svg\" alt=\"Open In Colab\"/></a>"
      ]
    },
    {
      "cell_type": "code",
      "execution_count": 3,
      "metadata": {
        "id": "2afN5y1xeEEX"
      },
      "outputs": [],
      "source": [
        "# I have read through the introduction about Tools, Grading and Setup\n",
        "read_introduction = True\n",
        "\n",
        "# I have a Google account and can access Google Colaboratory under my own \n",
        "# account\n",
        "access_colaboratory = True\n",
        "\n",
        "# I have a GitHub account\n",
        "github_account = True\n",
        "\n",
        "assert read_introduction == True, \"The variable read_introduction is not set to True\"\n",
        "assert access_colaboratory == True, \"The variable access_colaboratory is not set to True\"\n",
        "assert github_account == True, \"The variable github_account is not set to True\"\n",
        "\n",
        "# enter your github username\n",
        "github_username = 'username'\n",
        "\n",
        "# enter your FAU idM-credentials\n",
        "idm_credentials = 'ab12abcd'\n",
        "\n",
        "# run tests to check your implementation\n",
        "assert isinstance(github_username, str), \"The variable github_username is not of type string\"\n",
        "assert isinstance(idm_credentials, str), \"The variable idm_credentials is not of type string\""
      ]
    }
  ]
}